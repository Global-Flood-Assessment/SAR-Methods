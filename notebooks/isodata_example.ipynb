{
 "cells": [
  {
   "cell_type": "code",
   "execution_count": 1,
   "id": "simplified-effort",
   "metadata": {},
   "outputs": [],
   "source": [
    "import os\n",
    "os.chdir('../source')\n",
    "from Cluster import Cluster\n",
    "from Image import Image\n",
    "import numpy as np\n",
    "import matplotlib.pyplot as plt\n",
    "\n",
    "data_dir = '/home/csimmons/Research/playground/Main/GRD_Processed/Harvey'"
   ]
  },
  {
   "cell_type": "code",
   "execution_count": 2,
   "id": "northern-uncertainty",
   "metadata": {},
   "outputs": [],
   "source": [
    "VH_img = Image(data_dir+'/S1A_IW_GRDH_1SDV_20170905T122248_20170905T122318_018240_01EAA2_7011_Processed/S1A_IW_GRDH_1SDV_20170905T122248_20170905T122318_018240_01EAA2_7011_Sigma0_VH.tif')\n",
    "VV_img = Image(data_dir+'/S1A_IW_GRDH_1SDV_20170905T122248_20170905T122318_018240_01EAA2_7011_Processed/S1A_IW_GRDH_1SDV_20170905T122248_20170905T122318_018240_01EAA2_7011_Sigma0_VV.tif')\n",
    "VH_img.read()\n",
    "VV_img.read()\n",
    "\n",
    "geographic_bounds = [-95.9, -95., 29.4, 29.7]\n",
    "cluster = Cluster(geographic_bounds)"
   ]
  },
  {
   "cell_type": "markdown",
   "id": "accomplished-report",
   "metadata": {},
   "source": [
    "#### Crop images to focus on a smaller AOI (RAM intensive)"
   ]
  },
  {
   "cell_type": "code",
   "execution_count": 4,
   "id": "intermediate-pathology",
   "metadata": {},
   "outputs": [],
   "source": [
    "bounds = VH_img.c2b(cluster.c_bounds)\n",
    "VH_arr, _ = VH_img.crop(VH_img, bounds)\n",
    "VH = Image(None)\n",
    "VH.band = VH_arr\n",
    "\n",
    "bounds = VV_img.c2b(cluster.c_bounds)\n",
    "VV_arr, _ = VV_img.crop(VV_img, bounds)\n",
    "VV = Image(None)\n",
    "VV.band = VV_arr\n",
    "\n",
    "ratio_band = np.divide(VH_arr, VV_arr)\n",
    "ratio = Image(None)\n",
    "ratio.band = ratio_band"
   ]
  },
  {
   "cell_type": "markdown",
   "id": "elegant-confidence",
   "metadata": {},
   "source": [
    "#### Quantile clip"
   ]
  },
  {
   "cell_type": "code",
   "execution_count": 5,
   "id": "wooden-atmosphere",
   "metadata": {},
   "outputs": [
    {
     "ename": "ValueError",
     "evalue": "The truth value of an array with more than one element is ambiguous. Use a.any() or a.all()",
     "output_type": "error",
     "traceback": [
      "\u001b[0;31m---------------------------------------------------------------------------\u001b[0m",
      "\u001b[0;31mValueError\u001b[0m                                Traceback (most recent call last)",
      "\u001b[0;32m<ipython-input-5-0cc6f432047f>\u001b[0m in \u001b[0;36m<module>\u001b[0;34m\u001b[0m\n\u001b[0;32m----> 1\u001b[0;31m \u001b[0mVH\u001b[0m\u001b[0;34m.\u001b[0m\u001b[0mquantile_clip\u001b[0m\u001b[0;34m(\u001b[0m\u001b[0mupper_quantile\u001b[0m\u001b[0;34m=\u001b[0m\u001b[0;36m0.99\u001b[0m\u001b[0;34m)\u001b[0m\u001b[0;34m\u001b[0m\u001b[0;34m\u001b[0m\u001b[0m\n\u001b[0m\u001b[1;32m      2\u001b[0m \u001b[0mVV\u001b[0m\u001b[0;34m.\u001b[0m\u001b[0mquantile_clip\u001b[0m\u001b[0;34m(\u001b[0m\u001b[0mupper_quantile\u001b[0m\u001b[0;34m=\u001b[0m\u001b[0;36m0.99\u001b[0m\u001b[0;34m)\u001b[0m\u001b[0;34m\u001b[0m\u001b[0;34m\u001b[0m\u001b[0m\n\u001b[1;32m      3\u001b[0m \u001b[0mratio\u001b[0m\u001b[0;34m.\u001b[0m\u001b[0mquantile_clip\u001b[0m\u001b[0;34m(\u001b[0m\u001b[0mupper_quantile\u001b[0m\u001b[0;34m=\u001b[0m\u001b[0;36m0.99\u001b[0m\u001b[0;34m)\u001b[0m\u001b[0;34m\u001b[0m\u001b[0;34m\u001b[0m\u001b[0m\n",
      "\u001b[0;32m~/Research/SAR-Methods/source/Image.py\u001b[0m in \u001b[0;36mquantile_clip\u001b[0;34m(self, lower_quantile, upper_quantile)\u001b[0m\n\u001b[1;32m     48\u001b[0m             \u001b[0mupper_q\u001b[0m \u001b[0;34m=\u001b[0m \u001b[0mnp\u001b[0m\u001b[0;34m.\u001b[0m\u001b[0mquantile\u001b[0m\u001b[0;34m(\u001b[0m\u001b[0mself\u001b[0m\u001b[0;34m.\u001b[0m\u001b[0mband\u001b[0m\u001b[0;34m,\u001b[0m \u001b[0mupper_quantile\u001b[0m\u001b[0;34m)\u001b[0m\u001b[0;34m\u001b[0m\u001b[0;34m\u001b[0m\u001b[0m\n\u001b[1;32m     49\u001b[0m             \u001b[0mnew_band\u001b[0m \u001b[0;34m=\u001b[0m \u001b[0mnp\u001b[0m\u001b[0;34m.\u001b[0m\u001b[0mwhere\u001b[0m\u001b[0;34m(\u001b[0m\u001b[0mself\u001b[0m\u001b[0;34m.\u001b[0m\u001b[0mband\u001b[0m \u001b[0;34m>\u001b[0m \u001b[0mupper_q\u001b[0m\u001b[0;34m,\u001b[0m \u001b[0mupper_q\u001b[0m\u001b[0;34m,\u001b[0m \u001b[0mself\u001b[0m\u001b[0;34m.\u001b[0m\u001b[0mband\u001b[0m\u001b[0;34m)\u001b[0m\u001b[0;34m\u001b[0m\u001b[0;34m\u001b[0m\u001b[0m\n\u001b[0;32m---> 50\u001b[0;31m         \u001b[0;32mif\u001b[0m \u001b[0mnew_band\u001b[0m\u001b[0;34m:\u001b[0m\u001b[0;34m\u001b[0m\u001b[0;34m\u001b[0m\u001b[0m\n\u001b[0m\u001b[1;32m     51\u001b[0m             \u001b[0mself\u001b[0m\u001b[0;34m.\u001b[0m\u001b[0mband\u001b[0m \u001b[0;34m=\u001b[0m \u001b[0mnew_band\u001b[0m\u001b[0;34m\u001b[0m\u001b[0;34m\u001b[0m\u001b[0m\n\u001b[1;32m     52\u001b[0m \u001b[0;34m\u001b[0m\u001b[0m\n",
      "\u001b[0;31mValueError\u001b[0m: The truth value of an array with more than one element is ambiguous. Use a.any() or a.all()"
     ]
    }
   ],
   "source": [
    "VH.quantile_clip(upper_quantile=0.99)\n",
    "VV.quantile_clip(upper_quantile=0.99)\n",
    "ratio.quantile_clip(upper_quantile=0.99)"
   ]
  },
  {
   "cell_type": "code",
   "execution_count": null,
   "id": "modular-chaos",
   "metadata": {},
   "outputs": [],
   "source": []
  }
 ],
 "metadata": {
  "kernelspec": {
   "display_name": "Python 3",
   "language": "python",
   "name": "python3"
  },
  "language_info": {
   "codemirror_mode": {
    "name": "ipython",
    "version": 3
   },
   "file_extension": ".py",
   "mimetype": "text/x-python",
   "name": "python",
   "nbconvert_exporter": "python",
   "pygments_lexer": "ipython3",
   "version": "3.8.3"
  }
 },
 "nbformat": 4,
 "nbformat_minor": 5
}
